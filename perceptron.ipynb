{
 "cells": [
  {
   "cell_type": "markdown",
   "metadata": {},
   "source": [
    "# Lab 2 Evaluation"
   ]
  },
  {
   "cell_type": "markdown",
   "metadata": {},
   "source": [
    "## Objectives of the practical work\n",
    "\n",
    "The objective is to get hands on experience on the fundamental elements of neural networks:\n",
    " \n",
    " - perceptron architecture (linear regression)\n",
    " - loss function\n",
    " - empirical loss\n",
    " - gradient descent\n",
    "\n",
    "For this we will implement from scratch the data-structure and algorithms to train a perceptron. Note that slides related to the perceptron and neural networks in general are available on [moodle](https://moodle.insa-toulouse.fr/course/view.php?id=1822#section-2).\n",
    "\n",
    "## Dataset\n",
    "\n",
    "The objective of the regression is the prediction of the hydrodynamic performance of sailing yachts from dimensions and velocity.\n",
    "The **inputs** are linked to dimension and hydrodynamics characteristics:\n",
    "1. Longitudinal position of the center of buoyancy\n",
    "(*flottabilité*), adimensional.\n",
    "2. Prismatic coefficient, adimensional.\n",
    "3. Length-displacement ratio, adimensional.\n",
    "4. Beam -draught ratio ((*tiran d’eau*), adimensional.\n",
    "5. Length-beam ratio, adimensional.\n",
    "6. Froude number, adimensional\n",
    "\n",
    "**Target value/predicted value (Output)** = Residuary resistance per unit weight of\n",
    "displacement, adimensional"
   ]
  },
  {
   "cell_type": "code",
   "execution_count": 15,
   "metadata": {},
   "outputs": [],
   "source": [
    "# Import some useful libraries and functions\n",
    "\n",
    "import numpy as np\n",
    "import pandas\n",
    "\n",
    "def print_stats(dataset):\n",
    "    \"\"\"Print statistics of a dataset\"\"\"\n",
    "    print(pandas.DataFrame(dataset).describe())\n"
   ]
  },
  {
   "cell_type": "code",
   "execution_count": 16,
   "metadata": {},
   "outputs": [
    {
     "name": "stdout",
     "output_type": "stream",
     "text": [
      "Dataset available\n"
     ]
    }
   ],
   "source": [
    "# Download the data set and place in the current folder (works on linux only)\n",
    "filename = 'yacht_hydrodynamics.data'\n",
    "\n",
    "import os.path\n",
    "import requests\n",
    "\n",
    "if not os.path.exists(filename):\n",
    "    print(\"Downloading dataset...\")\n",
    "    r = requests.get('https://arbimo.github.io/tp-supervised-learning/tp2/' + filename)\n",
    "    open(filename , 'wb').write(r.content)\n",
    "    \n",
    "print('Dataset available')"
   ]
  },
  {
   "cell_type": "markdown",
   "metadata": {},
   "source": [
    "### Explore the dataset\n",
    "\n",
    "- How many examples are there in the dataset?\n",
    "  ***There are 308 examples in the dataset (308 rows)***\n",
    "- How many features for each example?\n",
    "  ***There are 6 features (7 columns), the right-most column being the result of each example***\n",
    "- What is the ground truth of the 10th example?\n",
    "  ***The ground truth of this example is 1.83***"
   ]
  },
  {
   "cell_type": "code",
   "execution_count": 17,
   "metadata": {},
   "outputs": [
    {
     "name": "stdout",
     "output_type": "stream",
     "text": [
      "f([-5.    0.6   4.78  4.24  3.15  0.35]) = 8.62\n",
      "f([-5.     0.565  4.77   3.99   3.15   0.15 ]) = 0.18\n",
      "f([-2.3    0.565  4.78   5.35   2.76   0.15 ]) = 0.29\n",
      "f([-5.     0.6    4.78   4.24   3.15   0.325]) = 6.2\n",
      "f([0.    0.53  4.78  3.75  3.15  0.175]) = 0.59\n"
     ]
    }
   ],
   "source": [
    "# loads the dataset and slip between inputs (X) and ground truth (Y)\n",
    "dataset = np.genfromtxt(\"yacht_hydrodynamics.data\", delimiter='')\n",
    "X = dataset[:, :-1] # examples features\n",
    "Y = dataset[:, -1]  # ground truth\n",
    "\n",
    "# Print the first 5 examples\n",
    "for i in range(0,5):\n",
    "    print(f\"f({X[i]}) = {Y[i]}\")"
   ]
  },
  {
   "cell_type": "markdown",
   "metadata": {},
   "source": [
    "The following command adds a column to the inputs.\n",
    "\n",
    "- What is in the value added this column? ***The column added only contains ones.***\n",
    "- Why are we doing this? ***This value represents the \"w0\" in the formula of the affine function: y = w0 + x1w1 +x2w2 + ... + xnwn. This value needs to be initialized and will be changed afterwards (with the evolution of the algorithm). It avoids having only linear functions, as we want affine functions.***"
   ]
  },
  {
   "cell_type": "code",
   "execution_count": 18,
   "metadata": {
    "scrolled": true
   },
   "outputs": [
    {
     "name": "stdout",
     "output_type": "stream",
     "text": [
      "           0           1           2           3           4           5  \\\n",
      "count  308.0  308.000000  308.000000  308.000000  308.000000  308.000000   \n",
      "mean     1.0   -2.381818    0.564136    4.788636    3.936818    3.206818   \n",
      "std      0.0    1.513219    0.023290    0.253057    0.548193    0.247998   \n",
      "min      1.0   -5.000000    0.530000    4.340000    2.810000    2.730000   \n",
      "25%      1.0   -2.400000    0.546000    4.770000    3.750000    3.150000   \n",
      "50%      1.0   -2.300000    0.565000    4.780000    3.955000    3.150000   \n",
      "75%      1.0   -2.300000    0.574000    5.100000    4.170000    3.510000   \n",
      "max      1.0    0.000000    0.600000    5.140000    5.350000    3.640000   \n",
      "\n",
      "                6  \n",
      "count  308.000000  \n",
      "mean     0.287500  \n",
      "std      0.100942  \n",
      "min      0.125000  \n",
      "25%      0.200000  \n",
      "50%      0.287500  \n",
      "75%      0.375000  \n",
      "max      0.450000  \n"
     ]
    }
   ],
   "source": [
    "X = np.insert(X, 0, np.ones((len(X))), axis= 1)\n",
    "print_stats(X)"
   ]
  },
  {
   "cell_type": "markdown",
   "metadata": {},
   "source": [
    "## Creating the perceptron\n",
    "\n",
    "![Perceptron for regression](https://arbimo.github.io/tp-supervised-learning/tp2/perceptron-regression.png)\n",
    "\n",
    "We now want to define a perceptron, that is, a function of the form: \n",
    "\n",
    "$h_w(x) = w_0 + w_1 \\times x_1 + \\dots + w_n \\times x_n$\n",
    "\n",
    "- Complete the code snippet below to:\n",
    "  - create the vector of weight `w`\n",
    "  - implement the `h` function that evaluate an example based on the vector of weights\n",
    "  - check if this works on a few examples"
   ]
  },
  {
   "cell_type": "code",
   "execution_count": 19,
   "metadata": {},
   "outputs": [
    {
     "name": "stdout",
     "output_type": "stream",
     "text": [
      "--First example-- \n",
      "ground truth: 8.62 \n",
      "evaluation of h_w: 0.0\n"
     ]
    }
   ],
   "source": [
    "w = np.zeros(7)\n",
    "\n",
    "def h(w, x):\n",
    "    sum = 0\n",
    "    for i in range(0,len(x)-1):\n",
    "        sum+=x[i]*w[i]\n",
    "    return sum\n",
    "X = dataset[:, :-1] # examples features\n",
    "Y = dataset[:, -1]  # ground truth\n",
    "\n",
    "# print the ground truth and the evaluation of h_w on the first example\n",
    "print(\"--First example-- \\nground truth:\", Y[0], \"\\nevaluation of h_w:\", h(w, X[0]))"
   ]
  },
  {
   "cell_type": "markdown",
   "metadata": {},
   "source": [
    "## Loss function\n",
    "\n",
    "Complete the definiton of the loss function below such that, for a **single** example `x` with ground truth `y`, it returns the $L_2$ loss of $h_w$ on `x`."
   ]
  },
  {
   "cell_type": "code",
   "execution_count": 20,
   "metadata": {},
   "outputs": [],
   "source": [
    "\"\"\"def loss(w, x, y):\n",
    "    h=np.full(len(y),h(w,x))\n",
    "    L=(y-h)**2 #L2(a,b)=(a-b)^2\n",
    "    return L\"\"\"\n",
    "def loss(w, x, y):\n",
    "    return (y-h(w,x))**2 #L2(a,b)=(a-b)^2"
   ]
  },
  {
   "cell_type": "markdown",
   "metadata": {},
   "source": [
    "## Empirical loss\n",
    "\n",
    "Complete the function below to compute the empirical loss of $h_w$ on a **set** of examples $X$ with associated ground truths $Y$."
   ]
  },
  {
   "cell_type": "code",
   "execution_count": 21,
   "metadata": {},
   "outputs": [],
   "source": [
    "def emp_loss(w, X, Y):\n",
    "    return sum(loss(w,X,Y)/len(X))"
   ]
  },
  {
   "cell_type": "markdown",
   "metadata": {},
   "source": [
    "## Gradient update\n",
    "\n",
    "A gradient update is of the form: $w \\gets w + dw$\n",
    "\n",
    "- Complete the function below so that it computes the $dw$ term (the 'update') based on a set of examples `(X, Y)` the step (`alpha`)\n",
    "\n",
    "If you are not sure about the gradient computation, check out the [perceptron slides](https://moodle.insa-toulouse.fr/pluginfile.php/120391/mod_resource/content/1/cm1.pdf) on [Moodle](https://moodle.insa-toulouse.fr/course/view.php?id=1822) (in particular, slide 26). Make sure this computation is clear to you!"
   ]
  },
  {
   "cell_type": "code",
   "execution_count": 27,
   "metadata": {},
   "outputs": [
    {
     "data": {
      "text/plain": [
       "array([-0.00754539,  0.00181636,  0.01543604,  0.01266542,  0.01033756,\n",
       "        0.00130721,  0.        ])"
      ]
     },
     "execution_count": 27,
     "metadata": {},
     "output_type": "execute_result"
    }
   ],
   "source": [
    "def compute_update(w, X, Y, alpha):\n",
    "    dw = np.zeros(len(w))\n",
    "    for i in range(0,len(w)-1):\n",
    "        sum=0\n",
    "        for j in range(0,len(X)-1):\n",
    "            sum+=(Y[j]-h(w,X[j]))*X[j][i]\n",
    "        dw[i]=sum*alpha\n",
    "    return dw\n",
    "   \n",
    "compute_update(w, X, Y, alpha = 10e-7)"
   ]
  },
  {
   "cell_type": "markdown",
   "metadata": {},
   "source": [
    "## Gradient descent\n",
    "\n",
    "Now implement the gradient descent algorithm that will:\n",
    "\n",
    "- repeatedly apply an update the weights \n",
    "- stops when a max number of iterations is reached (do not consider early stopping for now)\n",
    "- returns the final vector of weights"
   ]
  },
  {
   "cell_type": "code",
   "execution_count": 28,
   "metadata": {},
   "outputs": [],
   "source": [
    "def descent(w_init, X, Y, alpha, max_iter):\n",
    "    w=np.copy(w_init)\n",
    "    for i in range(0,max_iter):\n",
    "        for j in range (0,len(w)):\n",
    "            w[j]=w[j]+compute_update(w, X, Y, alpha)[j]\n",
    "    return w"
   ]
  },
  {
   "cell_type": "markdown",
   "metadata": {},
   "source": [
    "## Exploitation\n",
    "\n",
    "You gradient descent is now complete and you can exploit it to train your perceptron.\n",
    "\n",
    "- Train your perceptron to get a model.\n",
    "- Visualize the evolution of the loss on the training set. Has it converged?\n",
    "- Try training for several choices of `alpha` and `max_iter`. What seem like a reasonable choice?\n",
    "- What is the loss associated with the final model?\n",
    "- Is the final model the optimal one for a perceptron?"
   ]
  },
  {
   "cell_type": "code",
   "execution_count": 120,
   "metadata": {},
   "outputs": [],
   "source": [
    "from matplotlib import pyplot as plt\n",
    "import statistics\n",
    "\n",
    "#Function that constructs plots based on a parameter and the impact of that parameter on weights\n",
    "def construct_plt(parameter,x_axis):\n",
    "    weights=[]\n",
    "    if x_axis=='alpha':\n",
    "        for i in parameter:\n",
    "            weights.append(statistics.mean(descent(w_init,X,Y,i,10)))\n",
    "    else:\n",
    "        for i in parameter:\n",
    "            weights.append(statistics.mean(descent(w_init,X,Y,10e-7,i)))\n",
    "    plt.xscale('log')\n",
    "    plt.yscale('log')\n",
    "    plt.plot(parameter,weights)\n",
    "    plt.xlabel(x_axis)\n",
    "    plt.ylabel(\"Weights\")\n",
    "    plt.title(\"Impact of \"+x_axis+\" on the weights\")\n",
    "    plt.show()\n"
   ]
  },
  {
   "cell_type": "code",
   "execution_count": 121,
   "metadata": {},
   "outputs": [
    {
     "name": "stdout",
     "output_type": "stream",
     "text": [
      "--Variation of alpha--\n",
      "alpha = 10e-9, max_iter=10\n",
      " [-0.00075394  0.0001815   0.00154241  0.00126547  0.00103284  0.00013064\n",
      "  0.        ]\n",
      "alpha = 10e-7, max_iter=10\n",
      " [-0.0697215   0.01683027  0.14301152  0.11645933  0.09466101  0.01226514\n",
      "  0.        ]\n",
      "alpha = 10e-5, max_iter=10\n",
      " [-0.3646667   0.18848085  1.57835472  0.33264696  0.19068828  0.39402287\n",
      "  0.        ]\n",
      "alpha = 10e-3, max_iter=10\n",
      " [-8.19345720e+42 -3.18762556e+43 -6.04693318e+42  3.46390069e+44\n",
      " -1.30875293e+46  3.58251690e+46  0.00000000e+00]\n",
      "alpha = 10, max_iter=10\n",
      " [ 1.46375388e+196  6.04092579e+199 -5.00432849e+203  2.90427359e+208\n",
      " -1.12090227e+213  3.16908497e+216  0.00000000e+000]\n"
     ]
    },
    {
     "data": {
      "image/png": "[encoded data removed]",
      "text/plain": [
       "<Figure size 432x288 with 1 Axes>"
      ]
     },
     "metadata": {
      "needs_background": "light"
     },
     "output_type": "display_data"
    },
    {
     "name": "stdout",
     "output_type": "stream",
     "text": [
      "\n",
      "--Variation of max_iter--\n",
      "alpha = 10e-7, max_iter=1\n",
      " [-0.00754539  0.00181324  0.01540812  0.01255304  0.01019761  0.00129179\n",
      "  0.        ]\n",
      "alpha = 10e-7, max_iter=10\n",
      " [-0.0697215   0.01683027  0.14301152  0.11645933  0.09466101  0.01226514\n",
      "  0.        ]\n",
      "alpha = 10e-7, max_iter=100\n",
      " [-0.34752839  0.08876463  0.75395736  0.61051858  0.49978829  0.0827822\n",
      "  0.        ]\n"
     ]
    },
    {
     "data": {
      "image/png": "[encoded data removed]",
      "text/plain": [
       "<Figure size 432x288 with 1 Axes>"
      ]
     },
     "metadata": {
      "needs_background": "light"
     },
     "output_type": "display_data"
    }
   ],
   "source": [
    "print(\"--Variation of alpha--\")\n",
    "print(\"alpha = 10e-9, max_iter=10\\n\", descent(w_init,X,Y,10e-9,10))\n",
    "print(\"alpha = 10e-7, max_iter=10\\n\", descent(w_init,X,Y,10e-7,10))\n",
    "print(\"alpha = 10e-5, max_iter=10\\n\", descent(w_init,X,Y,10e-5,10))\n",
    "print(\"alpha = 10e-3, max_iter=10\\n\", descent(w_init,X,Y,10e-3,10))\n",
    "print(\"alpha = 10, max_iter=10\\n\", descent(w_init,X,Y,10,10))\n",
    "\n",
    "#Impact of alpha on the weights (the Y axis represents an average on the values in w)\n",
    "alphas=[10,10e-3,10e-5,10e-7,10e-9]\n",
    "construct_plt(alphas,'alpha')\n",
    "\n",
    "print(\"\\n--Variation of max_iter--\")\n",
    "print(\"alpha = 10e-7, max_iter=1\\n\", descent(w_init,X,Y,10e-7,1))\n",
    "print(\"alpha = 10e-7, max_iter=10\\n\", descent(w_init,X,Y,10e-7,10))\n",
    "print(\"alpha = 10e-7, max_iter=100\\n\", descent(w_init,X,Y,10e-7,100))\n",
    "\n",
    "#Impact of max_iter on the weights (the Y axis represents an average on the values in w)\n",
    "max_iters=[1,10,100]\n",
    "construct_plt(max_iters,'max_iter')"
   ]
  },
  {
   "cell_type": "code",
   "execution_count": 122,
   "metadata": {},
   "outputs": [
    {
     "data": {
      "text/plain": [
       "Text(0, 0.5, 'f(examples)')"
      ]
     },
     "execution_count": 122,
     "metadata": {},
     "output_type": "execute_result"
    },
    {
     "data": {
      "image/png": "[encoded data removed]",
      "text/plain": [
       "<Figure size 432x288 with 1 Axes>"
      ]
     },
     "metadata": {
      "needs_background": "light"
     },
     "output_type": "display_data"
    }
   ],
   "source": [
    "# Code sample that can be used to visualize the difference between the ground truth and the prediction\n",
    "import matplotlib.pyplot as plt\n",
    "\n",
    "num_samples_to_plot = 20\n",
    "\n",
    "w_init = np.zeros(7)\n",
    "w_init = descent(w_init, X, Y, 10e-7, 100)\n",
    "yw = [h(w_init,x) for x in X]\n",
    "\n",
    "plt.plot(Y[0:num_samples_to_plot], 'ro', label='y')\n",
    "plt.plot(yw[0:num_samples_to_plot], 'bx', label='$\\hat{y}$')\n",
    "\n",
    "plt.legend()\n",
    "plt.xlabel(\"examples\")\n",
    "plt.ylabel(\"f(examples)\")\n"
   ]
  },
  {
   "cell_type": "markdown",
   "metadata": {},
   "source": [
    "\n",
    "\n",
    "\n",
    "\n",
    "# Going further\n",
    "\n",
    "The following are extensions of the work previously done. If attempting them **do not modify** the code you produced above so that it can be evaluated.\n",
    "\n",
    "### Improvements to gradient descent\n",
    "\n",
    "Consider improving the gradient descent with:\n",
    "\n",
    " - Stochastic Gradient Descent (SGD), which means selecting a subset of the examples for training\n",
    " - Detection of convergence to halt the algorithm before the maximum number of iterations\n",
    "\n",
    "\n",
    "### Data normalization\n",
    "\n",
    "Different input features can have different units, and very different ranges.\n",
    "Within the perceptron computation, these values will be summed together.\n",
    "While gradient descent is normally able to deal with this (by adapting the weights of the perceptron for each input feature), standardizing the input features usually eases the perceptron training, and can sometimes improve accuracy.\n",
    "\n",
    "\n",
    "\n",
    "\n",
    "```python\n",
    "from sklearn.preprocessing import StandardScaler\n",
    "sc = StandardScaler(copy=True) \n",
    "X_normalized = sc.fit_transform(X)\n",
    "```\n",
    "\n",
    "Try applying a standard normalization to the input features (make sure that you keep a feature column that is always equal to 1). Is the convergence faster ? Try to quantify this speed-up. What about accuracy ?"
   ]
  }
 ],
 "metadata": {
  "kernelspec": {
   "display_name": "Python 3",
   "language": "python",
   "name": "python3"
  },
  "language_info": {
   "codemirror_mode": {
    "name": "ipython",
    "version": 3
   },
   "file_extension": ".py",
   "mimetype": "text/x-python",
   "name": "python",
   "nbconvert_exporter": "python",
   "pygments_lexer": "ipython3",
   "version": "3.8.5"
  }
 },
 "nbformat": 4,
 "nbformat_minor": 4
}
