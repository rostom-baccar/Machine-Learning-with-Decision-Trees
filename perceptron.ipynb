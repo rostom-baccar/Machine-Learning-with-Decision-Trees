{
 "cells": [
  {
   "cell_type": "markdown",
   "metadata": {},
   "source": [
    "# Lab 2 Evaluation"
   ]
  },
  {
   "cell_type": "markdown",
   "metadata": {},
   "source": [
    "## Objectives of the practical work\n",
    "\n",
    "The objective is to get hands on experience on the fundamental elements of neural networks:\n",
    " \n",
    " - perceptron architecture (linear regression)\n",
    " - loss function\n",
    " - empirical loss\n",
    " - gradient descent\n",
    "\n",
    "For this we will implement from scratch the data-structure and algorithms to train a perceptron. Note that slides related to the perceptron and neural networks in general are available on [moodle](https://moodle.insa-toulouse.fr/course/view.php?id=1822#section-2).\n",
    "\n",
    "## Dataset\n",
    "\n",
    "The objective of the regression is the prediction of the hydrodynamic performance of sailing yachts from dimensions and velocity.\n",
    "The **inputs** are linked to dimension and hydrodynamics characteristics:\n",
    "1. Longitudinal position of the center of buoyancy\n",
    "(*flottabilité*), adimensional.\n",
    "2. Prismatic coefficient, adimensional.\n",
    "3. Length-displacement ratio, adimensional.\n",
    "4. Beam -draught ratio ((*tiran d’eau*), adimensional.\n",
    "5. Length-beam ratio, adimensional.\n",
    "6. Froude number, adimensional\n",
    "\n",
    "**Target value/predicted value (Output)** = Residuary resistance per unit weight of\n",
    "displacement, adimensional"
   ]
  },
  {
   "cell_type": "code",
   "execution_count": 2,
   "metadata": {},
   "outputs": [],
   "source": [
    "# Import some useful libraries and functions\n",
    "\n",
    "import numpy as np\n",
    "import pandas\n",
    "\n",
    "def print_stats(dataset):\n",
    "    \"\"\"Print statistics of a dataset\"\"\"\n",
    "    print(pandas.DataFrame(dataset).describe())\n"
   ]
  },
  {
   "cell_type": "code",
   "execution_count": 3,
   "metadata": {},
   "outputs": [
    {
     "name": "stdout",
     "output_type": "stream",
     "text": [
      "Dataset available\n"
     ]
    }
   ],
   "source": [
    "# Download the data set and place in the current folder (works on linux only)\n",
    "filename = 'yacht_hydrodynamics.data'\n",
    "\n",
    "import os.path\n",
    "import requests\n",
    "\n",
    "if not os.path.exists(filename):\n",
    "    print(\"Downloading dataset...\")\n",
    "    r = requests.get('https://arbimo.github.io/tp-supervised-learning/tp2/' + filename)\n",
    "    open(filename , 'wb').write(r.content)\n",
    "    \n",
    "print('Dataset available')"
   ]
  },
  {
   "cell_type": "markdown",
   "metadata": {},
   "source": [
    "### Explore the dataset\n",
    "\n",
    "- How many examples are there in the dataset?\n",
    "  ***There are 308 examples in the dataset (308 rows)***\n",
    "- How many features for each example?\n",
    "  ***There are 6 features (7 columns), the right-most column being the result of each example***\n",
    "- What is the ground truth of the 10th example?\n",
    "  ***The ground truth of this example is 1.83***"
   ]
  },
  {
   "cell_type": "code",
   "execution_count": 4,
   "metadata": {},
   "outputs": [
    {
     "name": "stdout",
     "output_type": "stream",
     "text": [
      "f([-5.    0.6   4.78  4.24  3.15  0.35]) = 8.62\n",
      "f([-5.     0.565  4.77   3.99   3.15   0.15 ]) = 0.18\n",
      "f([-2.3    0.565  4.78   5.35   2.76   0.15 ]) = 0.29\n",
      "f([-5.     0.6    4.78   4.24   3.15   0.325]) = 6.2\n",
      "f([0.    0.53  4.78  3.75  3.15  0.175]) = 0.59\n"
     ]
    }
   ],
   "source": [
    "# loads the dataset and slip between inputs (X) and ground truth (Y)\n",
    "dataset = np.genfromtxt(\"yacht_hydrodynamics.data\", delimiter='')\n",
    "X = dataset[:, :-1] # examples features\n",
    "Y = dataset[:, -1]  # ground truth\n",
    "\n",
    "# Print the first 5 examples\n",
    "for i in range(0,5):\n",
    "    print(f\"f({X[i]}) = {Y[i]}\")"
   ]
  },
  {
   "cell_type": "markdown",
   "metadata": {},
   "source": [
    "The following command adds a column to the inputs.\n",
    "\n",
    "- What is in the value added this column? ***The column added only contains ones.***\n",
    "- Why are we doing this? ***This value represents the \"w0\" in the formula of the affine function: y = w0 + x1w1 +x2w2 + ... + xnwn. This value needs to be initialized and will be changed afterwards (with the evolution of the algorithm). It avoids having only linear functions, as we want affine functions.***"
   ]
  },
  {
   "cell_type": "code",
   "execution_count": 5,
   "metadata": {
    "scrolled": true
   },
   "outputs": [
    {
     "name": "stdout",
     "output_type": "stream",
     "text": [
      "           0           1           2           3           4           5  \\\n",
      "count  308.0  308.000000  308.000000  308.000000  308.000000  308.000000   \n",
      "mean     1.0   -2.381818    0.564136    4.788636    3.936818    3.206818   \n",
      "std      0.0    1.513219    0.023290    0.253057    0.548193    0.247998   \n",
      "min      1.0   -5.000000    0.530000    4.340000    2.810000    2.730000   \n",
      "25%      1.0   -2.400000    0.546000    4.770000    3.750000    3.150000   \n",
      "50%      1.0   -2.300000    0.565000    4.780000    3.955000    3.150000   \n",
      "75%      1.0   -2.300000    0.574000    5.100000    4.170000    3.510000   \n",
      "max      1.0    0.000000    0.600000    5.140000    5.350000    3.640000   \n",
      "\n",
      "                6  \n",
      "count  308.000000  \n",
      "mean     0.287500  \n",
      "std      0.100942  \n",
      "min      0.125000  \n",
      "25%      0.200000  \n",
      "50%      0.287500  \n",
      "75%      0.375000  \n",
      "max      0.450000  \n"
     ]
    }
   ],
   "source": [
    "X = np.insert(X, 0, np.ones((len(X))), axis= 1)\n",
    "print_stats(X)"
   ]
  },
  {
   "cell_type": "markdown",
   "metadata": {},
   "source": [
    "## Creating the perceptron\n",
    "\n",
    "![Perceptron for regression](https://arbimo.github.io/tp-supervised-learning/tp2/perceptron-regression.png)\n",
    "\n",
    "We now want to define a perceptron, that is, a function of the form: \n",
    "\n",
    "$h_w(x) = w_0 + w_1 \\times x_1 + \\dots + w_n \\times x_n$\n",
    "\n",
    "- Complete the code snippet below to:\n",
    "  - create the vector of weight `w`\n",
    "  - implement the `h` function that evaluate an example based on the vector of weights\n",
    "  - check if this works on a few examples"
   ]
  },
  {
   "cell_type": "code",
   "execution_count": 6,
   "metadata": {},
   "outputs": [
    {
     "name": "stdout",
     "output_type": "stream",
     "text": [
      "--First example-- \n",
      "ground truth: 8.62 \n",
      "evaluation of h_w: 0.0\n"
     ]
    }
   ],
   "source": [
    "w = np.zeros(7)\n",
    "\n",
    "def h(w, x):\n",
    "    sum = 0\n",
    "    for i in range(0,len(x)-1):\n",
    "        sum+=x[i]*w[i]\n",
    "    return sum\n",
    "X = dataset[:, :-1] # examples features\n",
    "Y = dataset[:, -1]  # ground truth\n",
    "\n",
    "# print the ground truth and the evaluation of h_w on the first example\n",
    "print(\"--First example-- \\nground truth:\", Y[0], \"\\nevaluation of h_w:\", h(w, X[0]))"
   ]
  },
  {
   "cell_type": "markdown",
   "metadata": {},
   "source": [
    "## Loss function\n",
    "\n",
    "Complete the definiton of the loss function below such that, for a **single** example `x` with ground truth `y`, it returns the $L_2$ loss of $h_w$ on `x`."
   ]
  },
  {
   "cell_type": "code",
   "execution_count": 7,
   "metadata": {},
   "outputs": [],
   "source": [
    "\"\"\"def loss(w, x, y):\n",
    "    h=np.full(len(y),h(w,x))\n",
    "    L=(y-h)**2 #L2(a,b)=(a-b)^2\n",
    "    return L\"\"\"\n",
    "def loss(w, x, y):\n",
    "    return (y-h(w,x))**2 #L2(a,b)=(a-b)^2"
   ]
  },
  {
   "cell_type": "markdown",
   "metadata": {},
   "source": [
    "## Empirical loss\n",
    "\n",
    "Complete the function below to compute the empirical loss of $h_w$ on a **set** of examples $X$ with associated ground truths $Y$."
   ]
  },
  {
   "cell_type": "code",
   "execution_count": 8,
   "metadata": {},
   "outputs": [],
   "source": [
    "def emp_loss(w, X, Y):\n",
    "    return sum(loss(w,X,Y)/len(X))"
   ]
  },
  {
   "cell_type": "markdown",
   "metadata": {},
   "source": [
    "## Gradient update\n",
    "\n",
    "A gradient update is of the form: $w \\gets w + dw$\n",
    "\n",
    "- Complete the function below so that it computes the $dw$ term (the 'update') based on a set of examples `(X, Y)` the step (`alpha`)\n",
    "\n",
    "If you are not sure about the gradient computation, check out the [perceptron slides](https://moodle.insa-toulouse.fr/pluginfile.php/120391/mod_resource/content/1/cm1.pdf) on [Moodle](https://moodle.insa-toulouse.fr/course/view.php?id=1822) (in particular, slide 26). Make sure this computation is clear to you!"
   ]
  },
  {
   "cell_type": "code",
   "execution_count": 9,
   "metadata": {},
   "outputs": [
    {
     "data": {
      "text/plain": [
       "array([-0.00754539,  0.00181636,  0.01543604,  0.01266542,  0.01033756,\n",
       "        0.00130721,  0.        ])"
      ]
     },
     "execution_count": 9,
     "metadata": {},
     "output_type": "execute_result"
    }
   ],
   "source": [
    "def compute_update(w, X, Y, alpha):\n",
    "    dw = np.zeros(len(w))\n",
    "    for i in range(0,len(w)-1):\n",
    "        sum=0\n",
    "        for j in range(0,len(X)-1):\n",
    "            sum+=(Y[j]-h(w,X[j]))*X[j][i]\n",
    "        dw[i]=sum*alpha\n",
    "    return dw\n",
    "   \n",
    "compute_update(w, X, Y, alpha = 10e-7)"
   ]
  },
  {
   "cell_type": "markdown",
   "metadata": {},
   "source": [
    "## Gradient descent\n",
    "\n",
    "Now implement the gradient descent algorithm that will:\n",
    "\n",
    "- repeatedly apply an update the weights \n",
    "- stops when a max number of iterations is reached (do not consider early stopping for now)\n",
    "- returns the final vector of weights"
   ]
  },
  {
   "cell_type": "code",
   "execution_count": 10,
   "metadata": {},
   "outputs": [],
   "source": [
    "def descent(w_init, X, Y, alpha, max_iter):\n",
    "    w=np.copy(w_init)\n",
    "    for i in range(0,max_iter):\n",
    "        for j in range (0,len(w)):\n",
    "            w[j]=w[j]+compute_update(w, X, Y, alpha)[j]\n",
    "    return w"
   ]
  },
  {
   "cell_type": "markdown",
   "metadata": {},
   "source": [
    "## Exploitation\n",
    "\n",
    "You gradient descent is now complete and you can exploit it to train your perceptron.\n",
    "\n",
    "- Train your perceptron to get a model.\n",
    "- Visualize the evolution of the loss on the training set. Has it converged?\n",
    "- Try training for several choices of `alpha` and `max_iter`. What seem like a reasonable choice?\n",
    "- What is the loss associated with the final model?\n",
    "- Is the final model the optimal one for a perceptron?"
   ]
  },
  {
   "cell_type": "code",
   "execution_count": 31,
   "metadata": {},
   "outputs": [],
   "source": [
    "from matplotlib import pyplot as plt\n",
    "import statistics\n",
    "\n",
    "#Function that constructs plots based on a parameter and the impact of that parameter on weights\n",
    "def construct_plt(X,Y,parameter,x_axis):\n",
    "    weights=[]\n",
    "    if x_axis=='alpha':\n",
    "        for i in parameter:\n",
    "            weights.append(statistics.mean(descent(w_init,X,Y,i,10)))\n",
    "    else:\n",
    "        for i in parameter:\n",
    "            weights.append(statistics.mean(descent(w_init,X,Y,10e-7,i)))\n",
    "    plt.xscale('log')\n",
    "    plt.yscale('log')\n",
    "    plt.plot(parameter,weights)\n",
    "    plt.xlabel(x_axis)\n",
    "    plt.ylabel(\"Weights\")\n",
    "    plt.title(\"Impact of \"+x_axis+\" on the weights\")\n",
    "    plt.show()\n"
   ]
  },
  {
   "cell_type": "code",
   "execution_count": 32,
   "metadata": {
    "scrolled": true
   },
   "outputs": [
    {
     "data": {
      "text/plain": [
       "Text(0, 0.5, 'f(examples)')"
      ]
     },
     "execution_count": 32,
     "metadata": {},
     "output_type": "execute_result"
    },
    {
     "data": {
      "image/png": "[encoded data removed]",
      "text/plain": [
       "<Figure size 432x288 with 1 Axes>"
      ]
     },
     "metadata": {
      "needs_background": "light"
     },
     "output_type": "display_data"
    }
   ],
   "source": [
    "# Code sample that can be used to visualize the difference between the ground truth and the prediction\n",
    "import matplotlib.pyplot as plt\n",
    "\n",
    "num_samples_to_plot = 20\n",
    "\n",
    "w_init = np.zeros(7)\n",
    "w_init = descent(w_init, X, Y, 10e-7, 100)\n",
    "yw = [h(w_init,x) for x in X]\n",
    "\n",
    "plt.plot(Y[0:num_samples_to_plot], 'ro', label='y')\n",
    "plt.plot(yw[0:num_samples_to_plot], 'bx', label='$\\hat{y}$')\n",
    "\n",
    "plt.legend()\n",
    "plt.xlabel(\"examples\")\n",
    "plt.ylabel(\"f(examples)\")\n"
   ]
  },
  {
   "cell_type": "code",
   "execution_count": 77,
   "metadata": {},
   "outputs": [],
   "source": [
    "def data_analysis(X,Y):\n",
    "\n",
    "    print(\"--Variation of alpha--\")\n",
    "    print(\"alpha = 10e-9, max_iter=10\\n\", descent(w_init,X,Y,10e-9,10))\n",
    "    print(\"alpha = 10e-7, max_iter=10\\n\", descent(w_init,X,Y,10e-7,10))\n",
    "    print(\"alpha = 10e-5, max_iter=10\\n\", descent(w_init,X,Y,10e-5,10))\n",
    "    print(\"alpha = 10e-3, max_iter=10\\n\", descent(w_init,X,Y,10e-3,10))\n",
    "    print(\"alpha = 10, max_iter=10\\n\", descent(w_init,X,Y,10,10))\n",
    "\n",
    "    #Impact of alpha on the weights (the Y axis represents an average on the values in w)\n",
    "    alphas=[10,10e-3,10e-5,10e-7,10e-9]\n",
    "    construct_plt(X,Y,alphas,'alpha')\n",
    "\n",
    "    print(\"\\n--Variation of max_iter--\")\n",
    "    print(\"alpha = 10e-7, max_iter=1\\n\", descent(w_init,X,Y,10e-7,1))\n",
    "    print(\"alpha = 10e-7, max_iter=10\\n\", descent(w_init,X,Y,10e-7,10))\n",
    "    print(\"alpha = 10e-7, max_iter=100\\n\", descent(w_init,X,Y,10e-7,100))\n",
    "\n",
    "    #Impact of max_iter on the weights (the Y axis represents an average on the values in w)\n",
    "    max_iters=[1,10,100]\n",
    "    construct_plt(X,Y,max_iters,'max_iter')"
   ]
  },
  {
   "cell_type": "code",
   "execution_count": 78,
   "metadata": {},
   "outputs": [
    {
     "name": "stdout",
     "output_type": "stream",
     "text": [
      "--Variation of alpha--\n",
      "alpha = 10e-9, max_iter=10\n",
      " [-0.34763724  0.08879903  0.75424922  0.61075211  0.49998496  0.08283799\n",
      "  0.        ]\n",
      "alpha = 10e-7, max_iter=10\n",
      " [-0.35738105  0.09196409  0.78109179  0.63202307  0.51787477  0.08821476\n",
      "  0.        ]\n",
      "alpha = 10e-5, max_iter=10\n",
      " [-0.17778506  0.13814448  1.1612859   0.64198327  0.5812752   0.4698692\n",
      "  0.        ]\n",
      "alpha = 10e-3, max_iter=10\n",
      " [-1.16443292e+42 -4.53017091e+42 -8.59374488e+41  4.92280598e+43\n",
      " -1.85996578e+45  5.09138026e+45  0.00000000e+00]\n",
      "alpha = 10, max_iter=10\n",
      " [ 2.11365715e+195  8.72308259e+198 -7.22623854e+202  4.19376422e+207\n",
      " -1.61858023e+212  4.57615122e+215  0.00000000e+000]\n"
     ]
    },
    {
     "data": {
      "image/png": "[encoded data removed]",
      "text/plain": [
       "<Figure size 432x288 with 1 Axes>"
      ]
     },
     "metadata": {
      "needs_background": "light"
     },
     "output_type": "display_data"
    },
    {
     "name": "stdout",
     "output_type": "stream",
     "text": [
      "\n",
      "--Variation of max_iter--\n",
      "alpha = 10e-7, max_iter=1\n",
      " [-0.34861797  0.08910848  0.75687405  0.61283557  0.50173125  0.08333744\n",
      "  0.        ]\n",
      "alpha = 10e-7, max_iter=10\n",
      " [-0.35738105  0.09196409  0.78109179  0.63202307  0.51787477  0.08821476\n",
      "  0.        ]\n",
      "alpha = 10e-7, max_iter=100\n",
      " [-0.38273495  0.10614863  0.90108278  0.72377575  0.59856458  0.12978413\n",
      "  0.        ]\n"
     ]
    },
    {
     "data": {
      "image/png": "[encoded data removed]",
      "text/plain": [
       "<Figure size 432x288 with 1 Axes>"
      ]
     },
     "metadata": {
      "needs_background": "light"
     },
     "output_type": "display_data"
    },
    {
     "name": "stdout",
     "output_type": "stream",
     "text": [
      "Wall time: 29.1 s\n"
     ]
    }
   ],
   "source": [
    "%%time\n",
    "data_analysis(X,Y)"
   ]
  },
  {
   "cell_type": "markdown",
   "metadata": {},
   "source": [
    "\n",
    "\n",
    "\n",
    "\n",
    "# Going further\n",
    "\n",
    "The following are extensions of the work previously done. If attempting them **do not modify** the code you produced above so that it can be evaluated.\n",
    "\n",
    "### Improvements to gradient descent\n",
    "\n",
    "Consider improving the gradient descent with:\n",
    "\n",
    " - Stochastic Gradient Descent (SGD), which means selecting a subset of the examples for training\n",
    " - Detection of convergence to halt the algorithm before the maximum number of iterations\n"
   ]
  },
  {
   "cell_type": "markdown",
   "metadata": {},
   "source": [
    "***The Stochastic Gradient Descent algorithm is an improvement over the basic Gradient Descent algorithm in terms of computation time. Indeed, by selecting only a subset of the examples studied, the calculations could be significantly reduced. The subset is selected randomly so it is supposed to represent the dataset well.***<br>\n",
    "***Note: Stochastic means Random***\n",
    "<br><br>\n",
    "***There are two simple ways to proceed. Either we select random points of the dataset every time we calculate the descent (each time the w vector is updated) with less iterations than the original algorithm, or we could make a smaller randomized copy of the dataset and work with that instead. The second solution being the simplet, that's how we're going to proceed***"
   ]
  },
  {
   "cell_type": "code",
   "execution_count": 72,
   "metadata": {
    "scrolled": false
   },
   "outputs": [
    {
     "name": "stdout",
     "output_type": "stream",
     "text": [
      "--Variation of alpha--\n",
      "alpha = 10e-9, max_iter=10\n",
      " [-0.3475289   0.08876478  0.75396079  0.61052132  0.49979044  0.08278425\n",
      "  0.        ]\n",
      "alpha = 10e-7, max_iter=10\n",
      " [-0.34757867  0.08877996  0.75429885  0.61079168  0.50000215  0.08298763\n",
      "  0.        ]\n",
      "alpha = 10e-5, max_iter=10\n",
      " [-0.34733539  0.08882634  0.77560282  0.62675333  0.51153197  0.10243245\n",
      "  0.        ]\n",
      "alpha = 10e-3, max_iter=10\n",
      " [1298.77547513    7.29510141   51.30919329 -136.50199669  241.09134696\n",
      "  -22.7486349     0.        ]\n",
      "alpha = 10, max_iter=10\n",
      " [ 1.86586243e+141  4.94880175e+143 -3.10284648e+146  1.35337215e+150\n",
      " -3.94089079e+153  8.64884771e+155  0.00000000e+000]\n"
     ]
    },
    {
     "data": {
      "image/png": "[encoded data removed]",
      "text/plain": [
       "<Figure size 432x288 with 1 Axes>"
      ]
     },
     "metadata": {
      "needs_background": "light"
     },
     "output_type": "display_data"
    },
    {
     "name": "stdout",
     "output_type": "stream",
     "text": [
      "\n",
      "--Variation of max_iter--\n",
      "alpha = 10e-7, max_iter=1\n",
      " [-0.3475335   0.08876618  0.75399169  0.61054603  0.4998098   0.08280275\n",
      "  0.        ]\n",
      "alpha = 10e-7, max_iter=10\n",
      " [-0.34757867  0.08877996  0.75429885  0.61079168  0.50000215  0.08298763\n",
      "  0.        ]\n",
      "alpha = 10e-7, max_iter=100\n",
      " [-0.34795954  0.08889789  0.75720181  0.61311144  0.50181248  0.08482625\n",
      "  0.        ]\n"
     ]
    },
    {
     "data": {
      "image/png": "[encoded data removed]",
      "text/plain": [
       "<Figure size 432x288 with 1 Axes>"
      ]
     },
     "metadata": {
      "needs_background": "light"
     },
     "output_type": "display_data"
    },
    {
     "name": "stdout",
     "output_type": "stream",
     "text": [
      "Wall time: 3.56 s\n"
     ]
    }
   ],
   "source": [
    "%%time\n",
    "\n",
    "#We have 308 examples in X. Let's make it 25 random examples\n",
    "import random\n",
    "alphas=[10,10e-3,10e-5,10e-7,10e-9]\n",
    "max_iters=[1,10,100]\n",
    "X = dataset[:, :-1] # examples features\n",
    "Y = dataset[:, -1]  # ground truth\n",
    "randX=[]\n",
    "randY=[]\n",
    "\n",
    "for i in range (0,25):\n",
    "    rand=random.choice(dataset)\n",
    "    randX.append(rand[:-1])\n",
    "    randY.append(rand[-1])\n",
    "#Analysis\n",
    "data_analysis(randX,randY)"
   ]
  },
  {
   "cell_type": "markdown",
   "metadata": {},
   "source": [
    "\n",
    "***The plots seem to be fairly similar. Also, we can see that we went from an execution time of 29.1 s to 3.56 s***\n",
    "\n",
    "### Data normalization\n",
    "\n",
    "Different input features can have different units, and very different ranges.\n",
    "Within the perceptron computation, these values will be summed together.\n",
    "While gradient descent is normally able to deal with this (by adapting the weights of the perceptron for each input feature), standardizing the input features usually eases the perceptron training, and can sometimes improve accuracy.\n",
    "\n",
    "\n",
    "\n",
    "\n",
    "```python\n",
    "from sklearn.preprocessing import StandardScaler\n",
    "sc = StandardScaler(copy=True) \n",
    "X_normalized = sc.fit_transform(X)\n",
    "```\n",
    "\n",
    "Try applying a standard normalization to the input features (make sure that you keep a feature column that is always equal to 1). Is the convergence faster ? Try to quantify this speed-up. What about accuracy ?"
   ]
  },
  {
   "cell_type": "code",
   "execution_count": 82,
   "metadata": {},
   "outputs": [
    {
     "name": "stdout",
     "output_type": "stream",
     "text": [
      "--Variation of alpha--\n",
      "alpha = 10e-9, max_iter=10\n",
      " [-0.34750864  0.08874549  0.75391451  0.61049049  0.49976324  0.08315943\n",
      "  0.        ]\n",
      "alpha = 10e-7, max_iter=10\n",
      " [-0.34555614  0.08685457  0.74968134  0.60771628  0.49728986  0.12050591\n",
      "  0.        ]\n",
      "alpha = 10e-5, max_iter=10\n",
      " [-0.17559484 -0.0717234   0.40906515  0.38557284  0.30352044  3.85503133\n",
      "  0.        ]\n",
      "alpha = 10e-3, max_iter=10\n",
      " [    1622.28134335  -789807.02358651 -6048991.22599967  8059014.83841763\n",
      " 15108168.61347719    65891.68198657        0.        ]\n",
      "alpha = 10, max_iter=10\n",
      " [-3.23386959e+101 -1.55930611e+103 -1.87547142e+105  2.20362880e+108\n",
      "  2.57234088e+111  1.95283231e+112  0.00000000e+000]\n"
     ]
    },
    {
     "data": {
      "image/png": "[encoded data removed]",
      "text/plain": [
       "<Figure size 432x288 with 1 Axes>"
      ]
     },
     "metadata": {
      "needs_background": "light"
     },
     "output_type": "display_data"
    },
    {
     "name": "stdout",
     "output_type": "stream",
     "text": [
      "\n",
      "--Variation of max_iter--\n",
      "alpha = 10e-7, max_iter=1\n",
      " [-0.34733089  0.08857328  0.7535288   0.61023778  0.49953787  0.08655457\n",
      "  0.        ]\n",
      "alpha = 10e-7, max_iter=10\n",
      " [-0.34555614  0.08685457  0.74968134  0.60771628  0.49728986  0.12050591\n",
      "  0.        ]\n",
      "alpha = 10e-7, max_iter=100\n",
      " [-0.3280805   0.07000407  0.71214173  0.58305756  0.47536969  0.46001816\n",
      "  0.        ]\n"
     ]
    },
    {
     "data": {
      "image/png": "[encoded data removed]",
      "text/plain": [
       "<Figure size 432x288 with 1 Axes>"
      ]
     },
     "metadata": {
      "needs_background": "light"
     },
     "output_type": "display_data"
    },
    {
     "name": "stdout",
     "output_type": "stream",
     "text": [
      "Wall time: 29.4 s\n"
     ]
    }
   ],
   "source": [
    "%%time\n",
    "\n",
    "from sklearn.preprocessing import StandardScaler\n",
    "sc = StandardScaler(copy=True) \n",
    "X_normalized = sc.fit_transform(X)\n",
    "#Analysis\n",
    "data_analysis(X_normalized,Y)"
   ]
  },
  {
   "cell_type": "markdown",
   "metadata": {},
   "source": [
    "***By comparing the execution time of the two cells, the Data Normalization on X seems to have no impact on the speed on the convergence***"
   ]
  }
 ],
 "metadata": {
  "kernelspec": {
   "display_name": "Python 3",
   "language": "python",
   "name": "python3"
  },
  "language_info": {
   "codemirror_mode": {
    "name": "ipython",
    "version": 3
   },
   "file_extension": ".py",
   "mimetype": "text/x-python",
   "name": "python",
   "nbconvert_exporter": "python",
   "pygments_lexer": "ipython3",
   "version": "3.8.5"
  }
 },
 "nbformat": 4,
 "nbformat_minor": 4
}
